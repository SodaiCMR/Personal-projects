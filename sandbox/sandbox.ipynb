{
 "cells": [
  {
   "cell_type": "code",
   "id": "initial_id",
   "metadata": {
    "collapsed": true,
    "ExecuteTime": {
     "end_time": "2025-06-14T13:25:51.605965Z",
     "start_time": "2025-06-14T13:25:50.864769Z"
    }
   },
   "source": [
    "import numpy as np\n",
    "import random"
   ],
   "outputs": [],
   "execution_count": 1
  },
  {
   "metadata": {},
   "cell_type": "code",
   "outputs": [],
   "execution_count": null,
   "source": [
    "def printMaze():\n",
    "    pass"
   ],
   "id": "c8161aef55c8dde"
  },
  {
   "metadata": {},
   "cell_type": "code",
   "source": [
    "class Node:\n",
    "    def __init__(self, cell: tuple, parent):\n",
    "        self.cell = cell\n",
    "        self.parent = parent\n",
    "\n",
    "    def neighbors(self) -> list:\n",
    "        neighbors = []\n",
    "        for row in range(self.cell[0] + 2):\n",
    "            for col in range(self.cell[1] + 2):\n",
    "                if (row, col) != (self.cell[0], self.cell[1]):\n",
    "                    neighbors.append((row, col))\n",
    "        return neighbors\n",
    "\n",
    "class StackFrontier:\n",
    "    def __init__(self):\n",
    "        self.nodes_stack = []\n",
    "\n",
    "    def add(self, node_neighbors: list[Node]):\n",
    "        self.nodes_stack += node_neighbors\n",
    "\n",
    "    def empty(self) -> bool:\n",
    "        if not self.nodes_stack:\n",
    "            return True\n",
    "        return False\n",
    "\n",
    "    def remove(self, node: Node):\n",
    "        self.nodes_stack.pop()\n",
    "        currentCell = self.nodes_stack[-1]\n",
    "        return Node(cell=currentCell, parent=node)\n"
   ],
   "id": "76adcbb14ac47d58",
   "outputs": [],
   "execution_count": null
  },
  {
   "metadata": {},
   "cell_type": "code",
   "outputs": [],
   "execution_count": null,
   "source": [
    "# initialize the maze box\n",
    "mazeChamber = np.full((10, 10), '#', dtype=str)\n",
    "\n",
    "# Pick a random starting point\n",
    "(i, j) = (random.randint(1, 10), random.randint(1, 10))\n",
    "\n",
    "firstNode = Node(cell=(i,j), parent=(None, None))\n",
    "frontier = StackFrontier()\n",
    "frontier.add([firstNode])\n",
    "visited_nodes = set()\n",
    "\n",
    "while True:\n",
    "    if frontier.empty:\n",
    "        break\n",
    "    else:\n",
    "        visited_nodes.append(firstNode)\n",
    "        mazeChamber[firstNode.cell[0], firstNode.cell[1]] = \"\"\n",
    "        frontier.remove()\n",
    "\n",
    "        frontier.add(firstNode.neighbors())\n",
    "        for node in firstNode.neighbors():\n",
    "            if node not in visited_nodes:\n",
    "                child = Node(cell=node.cell, parent=firstNode)\n",
    "                frontier.add(child)\n",
    "\n",
    "\n"
   ],
   "id": "7d52798859da9a86"
  }
 ],
 "metadata": {
  "kernelspec": {
   "display_name": "Python 3",
   "language": "python",
   "name": "python3"
  },
  "language_info": {
   "codemirror_mode": {
    "name": "ipython",
    "version": 2
   },
   "file_extension": ".py",
   "mimetype": "text/x-python",
   "name": "python",
   "nbconvert_exporter": "python",
   "pygments_lexer": "ipython2",
   "version": "2.7.6"
  }
 },
 "nbformat": 4,
 "nbformat_minor": 5
}
