{
 "cells": [
  {
   "cell_type": "code",
   "id": "initial_id",
   "metadata": {
    "collapsed": true,
    "ExecuteTime": {
     "end_time": "2025-06-15T13:22:27.440380Z",
     "start_time": "2025-06-15T13:22:27.320796Z"
    }
   },
   "source": [
    "import numpy as np\n",
    "import random"
   ],
   "outputs": [],
   "execution_count": 1
  },
  {
   "metadata": {},
   "cell_type": "code",
   "outputs": [],
   "execution_count": null,
   "source": [
    "def printMaze():\n",
    "    pass"
   ],
   "id": "c8161aef55c8dde"
  },
  {
   "metadata": {
    "ExecuteTime": {
     "end_time": "2025-06-15T14:18:05.733279Z",
     "start_time": "2025-06-15T14:18:05.727210Z"
    }
   },
   "cell_type": "code",
   "source": [
    "class Node:\n",
    "    def __init__(self, cell: tuple, parent):\n",
    "        self.cell = cell\n",
    "        self.parent = parent\n",
    "\n",
    "    def neighbors(self) -> list:\n",
    "        neighbors = []\n",
    "        drow = [(2, 0), (-2, 0)]\n",
    "        dcol = [(0, 2), (0, -2)]\n",
    "        for row in drow:\n",
    "            neighbor_x = self.cell[0] + row[0]\n",
    "            neighbor_y = self.cell[1] + row[1]\n",
    "            neighbor_x = min(neighbor_x, 9) if neighbor_x >= 0 else None\n",
    "            neighbor_y = min(neighbor_y, 9) if neighbor_y >= 0 else None\n",
    "            if neighbor_x and neighbor_y:\n",
    "                neighbors.append((neighbor_x, neighbor_y))\n",
    "        for col in dcol:\n",
    "            neighbor_x = self.cell[0] + col[0]\n",
    "            neighbor_y = self.cell[1] + col[1]\n",
    "            neighbor_x = min(neighbor_x, 9) if neighbor_x >= 0 else None\n",
    "            neighbor_y = min(neighbor_y, 9) if neighbor_y >= 0 else None\n",
    "            if neighbor_x and neighbor_y:\n",
    "                neighbors.append((neighbor_x, neighbor_y))\n",
    "        return neighbors\n",
    "\n",
    "\n",
    "class StackFrontier:\n",
    "    def __init__(self):\n",
    "        self.nodes_stack = []\n",
    "\n",
    "    def add(self, candidate_node: list[Node]):\n",
    "        self.nodes_stack += candidate_node\n",
    "\n",
    "    def empty(self) -> bool:\n",
    "        if not self.nodes_stack:\n",
    "            return True\n",
    "        return False\n",
    "\n",
    "    def remove(self):\n",
    "        node = self.nodes_stack[-1]\n",
    "        self.nodes_stack.pop()\n",
    "        return Node(cell=node.cell, parent=node.parent)\n"
   ],
   "id": "76adcbb14ac47d58",
   "outputs": [],
   "execution_count": 91
  },
  {
   "metadata": {
    "ExecuteTime": {
     "end_time": "2025-06-15T14:18:16.728336Z",
     "start_time": "2025-06-15T14:18:16.724788Z"
    }
   },
   "cell_type": "code",
   "source": [
    "def remove_wall(cell1: tuple, cell2: tuple):\n",
    "    wall_x = (cell1[0] + cell2[0]) // 2\n",
    "    wall_y = (cell1[1] + cell2[1]) // 2\n",
    "    mazeChamber[wall_x, wall_y] = \" \""
   ],
   "id": "6c522e15b50ac6e0",
   "outputs": [],
   "execution_count": 92
  },
  {
   "metadata": {
    "ExecuteTime": {
     "end_time": "2025-06-15T14:18:18.592830Z",
     "start_time": "2025-06-15T14:18:18.587517Z"
    }
   },
   "cell_type": "code",
   "source": [
    "# initialize the maze box\n",
    "mazeChamber = np.full((10, 10), '#', dtype=str)\n",
    "\n",
    "# Pick a random starting point\n",
    "(i, j) = (random.randint(0, 9), random.randint(0, 9))\n",
    "\n",
    "firstNode = Node(cell=(i, j), parent=None)\n",
    "frontier = StackFrontier()\n",
    "frontier.add([firstNode])\n",
    "visited_nodes_cell = set()\n",
    "\n",
    "while not frontier.empty():\n",
    "    actualNode = frontier.remove()\n",
    "    visited_nodes_cell.add(actualNode.cell)\n",
    "    if actualNode.parent is not None:\n",
    "        remove_wall(actualNode.parent.cell, actualNode.cell)\n",
    "    for node_cell in actualNode.neighbors():\n",
    "        if node_cell not in visited_nodes_cell:\n",
    "            child = Node(cell=node_cell, parent=actualNode)\n",
    "            frontier.add([child])"
   ],
   "id": "7d52798859da9a86",
   "outputs": [],
   "execution_count": 93
  },
  {
   "metadata": {
    "ExecuteTime": {
     "end_time": "2025-06-15T14:18:21.034100Z",
     "start_time": "2025-06-15T14:18:21.031144Z"
    }
   },
   "cell_type": "code",
   "source": "print(mazeChamber)\n",
   "id": "bb6fd4c4d6eaac0b",
   "outputs": [
    {
     "name": "stdout",
     "output_type": "stream",
     "text": [
      "[['#' '#' '#' '#' '#' '#' '#' '#' '#' '#']\n",
      " ['#' '#' ' ' ' ' ' ' ' ' ' ' ' ' ' ' '#']\n",
      " ['#' ' ' ' ' ' ' ' ' ' ' ' ' ' ' ' ' ' ']\n",
      " ['#' '#' ' ' ' ' ' ' ' ' ' ' ' ' ' ' '#']\n",
      " ['#' ' ' ' ' ' ' ' ' ' ' ' ' ' ' ' ' ' ']\n",
      " ['#' '#' ' ' ' ' ' ' ' ' ' ' ' ' ' ' '#']\n",
      " ['#' ' ' ' ' ' ' ' ' ' ' ' ' ' ' ' ' ' ']\n",
      " ['#' '#' ' ' ' ' ' ' ' ' ' ' ' ' ' ' '#']\n",
      " ['#' ' ' ' ' ' ' ' ' ' ' ' ' ' ' ' ' ' ']\n",
      " ['#' '#' ' ' ' ' ' ' ' ' ' ' ' ' ' ' '#']]\n"
     ]
    }
   ],
   "execution_count": 94
  }
 ],
 "metadata": {
  "kernelspec": {
   "display_name": "Python 3",
   "language": "python",
   "name": "python3"
  },
  "language_info": {
   "codemirror_mode": {
    "name": "ipython",
    "version": 2
   },
   "file_extension": ".py",
   "mimetype": "text/x-python",
   "name": "python",
   "nbconvert_exporter": "python",
   "pygments_lexer": "ipython2",
   "version": "2.7.6"
  }
 },
 "nbformat": 4,
 "nbformat_minor": 5
}
