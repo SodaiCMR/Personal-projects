{
 "cells": [
  {
   "cell_type": "code",
   "id": "initial_id",
   "metadata": {
    "collapsed": true,
    "ExecuteTime": {
     "end_time": "2025-06-14T21:50:00.865181Z",
     "start_time": "2025-06-14T21:50:00.691777Z"
    }
   },
   "source": [
    "import numpy as np\n",
    "import random"
   ],
   "outputs": [],
   "execution_count": 1
  },
  {
   "metadata": {},
   "cell_type": "code",
   "outputs": [],
   "execution_count": null,
   "source": [
    "def printMaze():\n",
    "    pass"
   ],
   "id": "c8161aef55c8dde"
  },
  {
   "metadata": {
    "ExecuteTime": {
     "end_time": "2025-06-14T21:53:49.062305Z",
     "start_time": "2025-06-14T21:53:49.052883Z"
    }
   },
   "cell_type": "code",
   "source": [
    "class Node:\n",
    "    def __init__(self, cell: tuple, parent):\n",
    "        self.cell = cell\n",
    "        self.parent = parent\n",
    "\n",
    "    def neighbors(self) -> list:\n",
    "        neighbors = []\n",
    "        for row in range(min(self.cell[0] + 2, 9)):\n",
    "            for col in range(min(self.cell[1] + 2, 9)):\n",
    "                if (row, col) != (self.cell[0], self.cell[1]) and row != col:\n",
    "                    neighbors.append((row, col))\n",
    "        return neighbors\n",
    "\n",
    "\n",
    "class StackFrontier:\n",
    "    def __init__(self):\n",
    "        self.nodes_stack = []\n",
    "\n",
    "    def add(self, candidate_node: list[Node]):\n",
    "        self.nodes_stack += candidate_node\n",
    "\n",
    "    def empty(self) -> bool:\n",
    "        if not self.nodes_stack:\n",
    "            return True\n",
    "        return False\n",
    "\n",
    "    def remove(self, parent_node: Node):\n",
    "        currentCell = self.nodes_stack[-1].cell\n",
    "        self.nodes_stack.pop()\n",
    "        return Node(cell=currentCell, parent=parent_node)\n"
   ],
   "id": "76adcbb14ac47d58",
   "outputs": [],
   "execution_count": 13
  },
  {
   "metadata": {
    "ExecuteTime": {
     "end_time": "2025-06-14T21:53:51.122021Z",
     "start_time": "2025-06-14T21:53:51.096990Z"
    }
   },
   "cell_type": "code",
   "source": [
    "# initialize the maze box\n",
    "mazeChamber = np.full((10, 10), '#', dtype=str)\n",
    "\n",
    "# Pick a random starting point\n",
    "(i, j) = (random.randint(0, 9), random.randint(0, 9))\n",
    "\n",
    "firstNode = Node(cell=(i, j), parent=(None, None))\n",
    "frontier = StackFrontier()\n",
    "frontier.add([firstNode])\n",
    "visited_nodes_cell = set()\n",
    "\n",
    "while not frontier.empty():\n",
    "    actualNode = frontier.remove(None)\n",
    "    visited_nodes_cell.add(actualNode.cell)\n",
    "    mazeChamber[actualNode.cell[0], actualNode.cell[1]] = \" \"\n",
    "    for node_cell in actualNode.neighbors():\n",
    "        if node_cell not in visited_nodes_cell:\n",
    "            child = Node(cell=node_cell, parent=actualNode)\n",
    "            frontier.add([child])"
   ],
   "id": "7d52798859da9a86",
   "outputs": [],
   "execution_count": 14
  },
  {
   "metadata": {},
   "cell_type": "code",
   "outputs": [],
   "execution_count": null,
   "source": "print(mazeChamber)\n",
   "id": "bb6fd4c4d6eaac0b"
  }
 ],
 "metadata": {
  "kernelspec": {
   "display_name": "Python 3",
   "language": "python",
   "name": "python3"
  },
  "language_info": {
   "codemirror_mode": {
    "name": "ipython",
    "version": 2
   },
   "file_extension": ".py",
   "mimetype": "text/x-python",
   "name": "python",
   "nbconvert_exporter": "python",
   "pygments_lexer": "ipython2",
   "version": "2.7.6"
  }
 },
 "nbformat": 4,
 "nbformat_minor": 5
}
