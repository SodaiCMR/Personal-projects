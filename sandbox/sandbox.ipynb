{
 "cells": [
  {
   "metadata": {
    "ExecuteTime": {
     "end_time": "2025-08-21T10:47:48.833582Z",
     "start_time": "2025-08-21T10:47:48.824963Z"
    }
   },
   "cell_type": "code",
   "source": "import math as m",
   "id": "3fc2955f0a27b55",
   "outputs": [],
   "execution_count": 1
  },
  {
   "metadata": {
    "ExecuteTime": {
     "end_time": "2025-08-21T11:43:15.619418Z",
     "start_time": "2025-08-21T11:43:15.614635Z"
    }
   },
   "cell_type": "code",
   "source": [
    "trail = [1, 2 ,3, 4]\n",
    "trail.pop(0)\n",
    "trail"
   ],
   "id": "ab15048985258639",
   "outputs": [
    {
     "data": {
      "text/plain": [
       "[2, 3, 4]"
      ]
     },
     "execution_count": 42,
     "metadata": {},
     "output_type": "execute_result"
    }
   ],
   "execution_count": 42
  }
 ],
 "metadata": {
  "kernelspec": {
   "display_name": "Python 3",
   "language": "python",
   "name": "python3"
  },
  "language_info": {
   "codemirror_mode": {
    "name": "ipython",
    "version": 2
   },
   "file_extension": ".py",
   "mimetype": "text/x-python",
   "name": "python",
   "nbconvert_exporter": "python",
   "pygments_lexer": "ipython2",
   "version": "2.7.6"
  }
 },
 "nbformat": 4,
 "nbformat_minor": 5
}
